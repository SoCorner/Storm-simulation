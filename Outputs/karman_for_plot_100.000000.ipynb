{
 "cells": [
  {
   "cell_type": "code",
   "execution_count": null,
   "metadata": {},
   "outputs": [],
   "source": [
    "import matplotlib.pyplot as plt\n",
    "plt.plot([0.000000,0.047619,0.095238,0.142857,0.190476,0.238095,0.285714,0.333333,0.380952,0.428571,0.476190,0.523810,0.571429,0.619048,0.666667,0.714286,0.761905,0.809524,0.857143,0.904762,0.952381,1.000000], [-0.089785,0.089784,0.254839,0.402454,0.528408,0.628203,0.698873,0.740744,0.758274,0.759746,0.755974,0.758115,0.774633,0.807705,0.850193,0.885182,0.889474,0.839916,0.719235,0.517203,0.226045,-0.226045])\n",
    "plt.ylabel('Geschwindigkeit u zu(reynoldzahl=100.000000')\n",
    "plt.xlabel('y-Wert')\n",
    "plt.xlim((0,1))\n",
    "plt.show()"
   ]
  }
 ],
 "metadata": {
  "kernelspec": {
   "display_name": "Python 3",
   "language": "python",
   "name": "python3"
  },
  "language_info": {
   "codemirror_mode": {
    "name": "ipython",
    "version": 3
   },
   "file_extension": ".py",
   "mimetype": "text/x-python",
   "name": "python",
   "nbconvert_exporter": "python",
   "pygments_lexer": "ipython3",
   "version": "3.7.3"
  }
 },
 "nbformat": 4,
 "nbformat_minor": 2
}{
 "cells": [
  {
   "cell_type": "code",
   "execution_count": null,
   "metadata": {},
   "outputs": [],
   "source": [
    "import matplotlib.pyplot as plt\n",
    "plt.plot([0.000000,0.047619,0.095238,0.142857,0.190476,0.238095,0.285714,0.333333,0.380952,0.428571,0.476190,0.523810,0.571429,0.619048,0.666667,0.714286,0.761905,0.809524,0.857143,0.904762,0.952381,1.000000], [-0.089785,0.089784,0.254839,0.402454,0.528408,0.628203,0.698873,0.740744,0.758274,0.759746,0.755974,0.758115,0.774633,0.807705,0.850193,0.885182,0.889474,0.839916,0.719235,0.517203,0.226045,-0.226045])\n",
    "plt.ylabel('Geschwindigkeit u zu(reynoldzahl=100.000000')\n",
    "plt.xlabel('y-Wert')\n",
    "plt.xlim((0,1))\n",
    "plt.show()"
   ]
  }
 ],
 "metadata": {
  "kernelspec": {
   "display_name": "Python 3",
   "language": "python",
   "name": "python3"
  },
  "language_info": {
   "codemirror_mode": {
    "name": "ipython",
    "version": 3
   },
   "file_extension": ".py",
   "mimetype": "text/x-python",
   "name": "python",
   "nbconvert_exporter": "python",
   "pygments_lexer": "ipython3",
   "version": "3.7.3"
  }
 },
 "nbformat": 4,
 "nbformat_minor": 2
}{
 "cells": [
  {
   "cell_type": "code",
   "execution_count": null,
   "metadata": {},
   "outputs": [],
   "source": [
    "import matplotlib.pyplot as plt\n",
    "plt.plot([0.000000,0.047619,0.095238,0.142857,0.190476,0.238095,0.285714,0.333333,0.380952,0.428571,0.476190,0.523810,0.571429,0.619048,0.666667,0.714286,0.761905,0.809524,0.857143,0.904762,0.952381,1.000000], [-0.089785,0.089784,0.254839,0.402454,0.528408,0.628203,0.698873,0.740744,0.758274,0.759746,0.755974,0.758115,0.774633,0.807705,0.850193,0.885182,0.889474,0.839916,0.719235,0.517203,0.226045,-0.226045])\n",
    "plt.ylabel('Geschwindigkeit u zu(reynoldzahl=100.000000')\n",
    "plt.xlabel('y-Wert')\n",
    "plt.xlim((0,1))\n",
    "plt.show()"
   ]
  }
 ],
 "metadata": {
  "kernelspec": {
   "display_name": "Python 3",
   "language": "python",
   "name": "python3"
  },
  "language_info": {
   "codemirror_mode": {
    "name": "ipython",
    "version": 3
   },
   "file_extension": ".py",
   "mimetype": "text/x-python",
   "name": "python",
   "nbconvert_exporter": "python",
   "pygments_lexer": "ipython3",
   "version": "3.7.3"
  }
 },
 "nbformat": 4,
 "nbformat_minor": 2
}