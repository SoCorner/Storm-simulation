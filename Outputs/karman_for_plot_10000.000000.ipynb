{
 "cells": [
  {
   "cell_type": "code",
   "execution_count": null,
   "metadata": {},
   "outputs": [],
   "source": [
    "import matplotlib.pyplot as plt\n",
    "plt.plot([0.000000,0.047619,0.095238,0.142857,0.190476,0.238095,0.285714,0.333333,0.380952,0.428571,0.476190,0.523810,0.571429,0.619048,0.666667,0.714286,0.761905,0.809524,0.857143,0.904762,0.952381,1.000000], [-1.147870,1.150518,1.209571,1.214209,1.207236,1.176049,1.091433,0.936222,0.761281,0.577325,0.437216,0.389527,0.459306,0.676502,0.944791,1.127377,1.217264,1.268131,1.272611,1.157536,0.736478,-0.739918])\n",
    "plt.ylabel('Geschwindigkeit u zu(reynoldzahl=10000.000000')\n",
    "plt.xlabel('y-Wert')\n",
    "plt.xlim((0,1))\n",
    "plt.show()"
   ]
  }
 ],
 "metadata": {
  "kernelspec": {
   "display_name": "Python 3",
   "language": "python",
   "name": "python3"
  },
  "language_info": {
   "codemirror_mode": {
    "name": "ipython",
    "version": 3
   },
   "file_extension": ".py",
   "mimetype": "text/x-python",
   "name": "python",
   "nbconvert_exporter": "python",
   "pygments_lexer": "ipython3",
   "version": "3.7.3"
  }
 },
 "nbformat": 4,
 "nbformat_minor": 2
}{
 "cells": [
  {
   "cell_type": "code",
   "execution_count": null,
   "metadata": {},
   "outputs": [],
   "source": [
    "import matplotlib.pyplot as plt\n",
    "plt.plot([0.000000,0.047619,0.095238,0.142857,0.190476,0.238095,0.285714,0.333333,0.380952,0.428571,0.476190,0.523810,0.571429,0.619048,0.666667,0.714286,0.761905,0.809524,0.857143,0.904762,0.952381,1.000000], [-1.147870,1.150518,1.209571,1.214209,1.207236,1.176049,1.091433,0.936222,0.761281,0.577325,0.437216,0.389527,0.459306,0.676502,0.944791,1.127377,1.217264,1.268131,1.272611,1.157536,0.736478,-0.739918])\n",
    "plt.ylabel('Geschwindigkeit u zu(reynoldzahl=10000.000000')\n",
    "plt.xlabel('y-Wert')\n",
    "plt.xlim((0,1))\n",
    "plt.show()"
   ]
  }
 ],
 "metadata": {
  "kernelspec": {
   "display_name": "Python 3",
   "language": "python",
   "name": "python3"
  },
  "language_info": {
   "codemirror_mode": {
    "name": "ipython",
    "version": 3
   },
   "file_extension": ".py",
   "mimetype": "text/x-python",
   "name": "python",
   "nbconvert_exporter": "python",
   "pygments_lexer": "ipython3",
   "version": "3.7.3"
  }
 },
 "nbformat": 4,
 "nbformat_minor": 2
}{
 "cells": [
  {
   "cell_type": "code",
   "execution_count": null,
   "metadata": {},
   "outputs": [],
   "source": [
    "import matplotlib.pyplot as plt\n",
    "plt.plot([0.000000,0.090909,0.181818,0.272727,0.363636,0.454545,0.545455,0.636364,0.727273,0.818182,0.909091,1.000000], [-0.000000,14.977624,16.088563,10.706154,-1.943904,-3.460655,-1.424966,1.550034,6.625367,8.240598,5.499153,-0.000000])\n",
    "plt.ylabel('Geschwindigkeit u zu(reynoldzahl=10000.000000')\n",
    "plt.xlabel('y-Wert')\n",
    "plt.xlim((0,1))\n",
    "plt.show()"
   ]
  }
 ],
 "metadata": {
  "kernelspec": {
   "display_name": "Python 3",
   "language": "python",
   "name": "python3"
  },
  "language_info": {
   "codemirror_mode": {
    "name": "ipython",
    "version": 3
   },
   "file_extension": ".py",
   "mimetype": "text/x-python",
   "name": "python",
   "nbconvert_exporter": "python",
   "pygments_lexer": "ipython3",
   "version": "3.7.3"
  }
 },
 "nbformat": 4,
 "nbformat_minor": 2
}{
 "cells": [
  {
   "cell_type": "code",
   "execution_count": null,
   "metadata": {},
   "outputs": [],
   "source": [
    "import matplotlib.pyplot as plt\n",
    "plt.plot([0.000000,0.047619,0.095238,0.142857,0.190476,0.238095,0.285714,0.333333,0.380952,0.428571,0.476190,0.523810,0.571429,0.619048,0.666667,0.714286,0.761905,0.809524,0.857143,0.904762,0.952381,1.000000], [-1.147870,1.150518,1.209571,1.214209,1.207236,1.176049,1.091433,0.936222,0.761281,0.577325,0.437216,0.389527,0.459306,0.676502,0.944791,1.127377,1.217264,1.268131,1.272611,1.157536,0.736478,-0.739918])\n",
    "plt.ylabel('Geschwindigkeit u zu(reynoldzahl=10000.000000')\n",
    "plt.xlabel('y-Wert')\n",
    "plt.xlim((0,1))\n",
    "plt.show()"
   ]
  }
 ],
 "metadata": {
  "kernelspec": {
   "display_name": "Python 3",
   "language": "python",
   "name": "python3"
  },
  "language_info": {
   "codemirror_mode": {
    "name": "ipython",
    "version": 3
   },
   "file_extension": ".py",
   "mimetype": "text/x-python",
   "name": "python",
   "nbconvert_exporter": "python",
   "pygments_lexer": "ipython3",
   "version": "3.7.3"
  }
 },
 "nbformat": 4,
 "nbformat_minor": 2
}{
 "cells": [
  {
   "cell_type": "code",
   "execution_count": null,
   "metadata": {},
   "outputs": [],
   "source": [
    "import matplotlib.pyplot as plt\n",
    "plt.plot([0.000000,0.047619,0.095238,0.142857,0.190476,0.238095,0.285714,0.333333,0.380952,0.428571,0.476190,0.523810,0.571429,0.619048,0.666667,0.714286,0.761905,0.809524,0.857143,0.904762,0.952381,1.000000], [-1.147870,1.150518,1.209571,1.214209,1.207236,1.176049,1.091433,0.936222,0.761281,0.577325,0.437216,0.389527,0.459306,0.676502,0.944791,1.127377,1.217264,1.268131,1.272611,1.157536,0.736478,-0.739918])\n",
    "plt.ylabel('Geschwindigkeit u zu(reynoldzahl=10000.000000')\n",
    "plt.xlabel('y-Wert')\n",
    "plt.xlim((0,1))\n",
    "plt.show()"
   ]
  }
 ],
 "metadata": {
  "kernelspec": {
   "display_name": "Python 3",
   "language": "python",
   "name": "python3"
  },
  "language_info": {
   "codemirror_mode": {
    "name": "ipython",
    "version": 3
   },
   "file_extension": ".py",
   "mimetype": "text/x-python",
   "name": "python",
   "nbconvert_exporter": "python",
   "pygments_lexer": "ipython3",
   "version": "3.7.3"
  }
 },
 "nbformat": 4,
 "nbformat_minor": 2
}{
 "cells": [
  {
   "cell_type": "code",
   "execution_count": null,
   "metadata": {},
   "outputs": [],
   "source": [
    "import matplotlib.pyplot as plt\n",
    "plt.plot([0.000000,0.047619,0.095238,0.142857,0.190476,0.238095,0.285714,0.333333,0.380952,0.428571,0.476190,0.523810,0.571429,0.619048,0.666667,0.714286,0.761905,0.809524,0.857143,0.904762,0.952381,1.000000], [-1.147870,1.150518,1.209571,1.214209,1.207236,1.176049,1.091433,0.936222,0.761281,0.577325,0.437216,0.389527,0.459306,0.676502,0.944791,1.127377,1.217264,1.268131,1.272611,1.157536,0.736478,-0.739918])\n",
    "plt.ylabel('Geschwindigkeit u zu(reynoldzahl=10000.000000')\n",
    "plt.xlabel('y-Wert')\n",
    "plt.xlim((0,1))\n",
    "plt.show()"
   ]
  }
 ],
 "metadata": {
  "kernelspec": {
   "display_name": "Python 3",
   "language": "python",
   "name": "python3"
  },
  "language_info": {
   "codemirror_mode": {
    "name": "ipython",
    "version": 3
   },
   "file_extension": ".py",
   "mimetype": "text/x-python",
   "name": "python",
   "nbconvert_exporter": "python",
   "pygments_lexer": "ipython3",
   "version": "3.7.3"
  }
 },
 "nbformat": 4,
 "nbformat_minor": 2
}