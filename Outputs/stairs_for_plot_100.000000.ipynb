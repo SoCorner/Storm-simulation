{
 "cells": [
  {
   "cell_type": "code",
   "execution_count": null,
   "metadata": {},
   "outputs": [],
   "source": [
    "import matplotlib.pyplot as plt\n",
    "plt.plot([0.000000,0.047619,0.095238,0.142857,0.190476,0.238095,0.285714,0.333333,0.380952,0.428571,0.476190,0.523810,0.571429,0.619048,0.666667,0.714286,0.761905,0.809524,0.857143,0.904762,0.952381,1.000000], [-0.060836,0.060837,0.171764,0.273907,0.369641,0.460670,0.546899,0.626164,0.694763,0.748310,0.782529,0.793867,0.779896,0.739669,0.674521,0.588366,0.487362,0.378508,0.267794,0.158888,0.053150,-0.053150])\n",
    "plt.ylabel('Geschwindigkeit u zu(reynoldzahl=100.000000')\n",
    "plt.xlabel('y-Wert')\n",
    "plt.xlim((0,1))\n",
    "plt.show()"
   ]
  }
 ],
 "metadata": {
  "kernelspec": {
   "display_name": "Python 3",
   "language": "python",
   "name": "python3"
  },
  "language_info": {
   "codemirror_mode": {
    "name": "ipython",
    "version": 3
   },
   "file_extension": ".py",
   "mimetype": "text/x-python",
   "name": "python",
   "nbconvert_exporter": "python",
   "pygments_lexer": "ipython3",
   "version": "3.7.3"
  }
 },
 "nbformat": 4,
 "nbformat_minor": 2
}{
 "cells": [
  {
   "cell_type": "code",
   "execution_count": null,
   "metadata": {},
   "outputs": [],
   "source": [
    "import matplotlib.pyplot as plt\n",
    "plt.plot([0.000000,0.047619,0.095238,0.142857,0.190476,0.238095,0.285714,0.333333,0.380952,0.428571,0.476190,0.523810,0.571429,0.619048,0.666667,0.714286,0.761905,0.809524,0.857143,0.904762,0.952381,1.000000], [-0.060836,0.060837,0.171764,0.273907,0.369641,0.460670,0.546899,0.626164,0.694763,0.748310,0.782529,0.793867,0.779896,0.739669,0.674521,0.588366,0.487362,0.378508,0.267794,0.158888,0.053150,-0.053150])\n",
    "plt.ylabel('Geschwindigkeit u zu(reynoldzahl=100.000000')\n",
    "plt.xlabel('y-Wert')\n",
    "plt.xlim((0,1))\n",
    "plt.show()"
   ]
  }
 ],
 "metadata": {
  "kernelspec": {
   "display_name": "Python 3",
   "language": "python",
   "name": "python3"
  },
  "language_info": {
   "codemirror_mode": {
    "name": "ipython",
    "version": 3
   },
   "file_extension": ".py",
   "mimetype": "text/x-python",
   "name": "python",
   "nbconvert_exporter": "python",
   "pygments_lexer": "ipython3",
   "version": "3.7.3"
  }
 },
 "nbformat": 4,
 "nbformat_minor": 2
}{
 "cells": [
  {
   "cell_type": "code",
   "execution_count": null,
   "metadata": {},
   "outputs": [],
   "source": [
    "import matplotlib.pyplot as plt\n",
    "plt.plot([0.000000,0.047619,0.095238,0.142857,0.190476,0.238095,0.285714,0.333333,0.380952,0.428571,0.476190,0.523810,0.571429,0.619048,0.666667,0.714286,0.761905,0.809524,0.857143,0.904762,0.952381,1.000000], [-0.060836,0.060837,0.171764,0.273907,0.369641,0.460670,0.546899,0.626164,0.694763,0.748310,0.782529,0.793867,0.779896,0.739669,0.674521,0.588366,0.487362,0.378508,0.267794,0.158888,0.053150,-0.053150])\n",
    "plt.ylabel('Geschwindigkeit u zu(reynoldzahl=100.000000')\n",
    "plt.xlabel('y-Wert')\n",
    "plt.xlim((0,1))\n",
    "plt.show()"
   ]
  }
 ],
 "metadata": {
  "kernelspec": {
   "display_name": "Python 3",
   "language": "python",
   "name": "python3"
  },
  "language_info": {
   "codemirror_mode": {
    "name": "ipython",
    "version": 3
   },
   "file_extension": ".py",
   "mimetype": "text/x-python",
   "name": "python",
   "nbconvert_exporter": "python",
   "pygments_lexer": "ipython3",
   "version": "3.7.3"
  }
 },
 "nbformat": 4,
 "nbformat_minor": 2
}{
 "cells": [
  {
   "cell_type": "code",
   "execution_count": null,
   "metadata": {},
   "outputs": [],
   "source": [
    "import matplotlib.pyplot as plt\n",
    "plt.plot([0.000000,0.047619,0.095238,0.142857,0.190476,0.238095,0.285714,0.333333,0.380952,0.428571,0.476190,0.523810,0.571429,0.619048,0.666667,0.714286,0.761905,0.809524,0.857143,0.904762,0.952381,1.000000], [-0.060836,0.060837,0.171764,0.273907,0.369641,0.460670,0.546899,0.626164,0.694763,0.748310,0.782529,0.793867,0.779896,0.739669,0.674521,0.588366,0.487362,0.378508,0.267794,0.158888,0.053150,-0.053150])\n",
    "plt.ylabel('Geschwindigkeit u zu(reynoldzahl=100.000000')\n",
    "plt.xlabel('y-Wert')\n",
    "plt.xlim((0,1))\n",
    "plt.show()"
   ]
  }
 ],
 "metadata": {
  "kernelspec": {
   "display_name": "Python 3",
   "language": "python",
   "name": "python3"
  },
  "language_info": {
   "codemirror_mode": {
    "name": "ipython",
    "version": 3
   },
   "file_extension": ".py",
   "mimetype": "text/x-python",
   "name": "python",
   "nbconvert_exporter": "python",
   "pygments_lexer": "ipython3",
   "version": "3.7.3"
  }
 },
 "nbformat": 4,
 "nbformat_minor": 2
}{
 "cells": [
  {
   "cell_type": "code",
   "execution_count": null,
   "metadata": {},
   "outputs": [],
   "source": [
    "import matplotlib.pyplot as plt\n",
    "plt.plot([0.000000,0.047619,0.095238,0.142857,0.190476,0.238095,0.285714,0.333333,0.380952,0.428571,0.476190,0.523810,0.571429,0.619048,0.666667,0.714286,0.761905,0.809524,0.857143,0.904762,0.952381,1.000000], [-0.060836,0.060837,0.171764,0.273907,0.369641,0.460670,0.546899,0.626164,0.694763,0.748310,0.782529,0.793867,0.779896,0.739669,0.674521,0.588366,0.487362,0.378508,0.267794,0.158888,0.053150,-0.053150])\n",
    "plt.ylabel('Geschwindigkeit u zu(reynoldzahl=100.000000')\n",
    "plt.xlabel('y-Wert')\n",
    "plt.xlim((0,1))\n",
    "plt.show()"
   ]
  }
 ],
 "metadata": {
  "kernelspec": {
   "display_name": "Python 3",
   "language": "python",
   "name": "python3"
  },
  "language_info": {
   "codemirror_mode": {
    "name": "ipython",
    "version": 3
   },
   "file_extension": ".py",
   "mimetype": "text/x-python",
   "name": "python",
   "nbconvert_exporter": "python",
   "pygments_lexer": "ipython3",
   "version": "3.7.3"
  }
 },
 "nbformat": 4,
 "nbformat_minor": 2
}{
 "cells": [
  {
   "cell_type": "code",
   "execution_count": null,
   "metadata": {},
   "outputs": [],
   "source": [
    "import matplotlib.pyplot as plt\n",
    "plt.plot([0.000000,0.047619,0.095238,0.142857,0.190476,0.238095,0.285714,0.333333,0.380952,0.428571,0.476190,0.523810,0.571429,0.619048,0.666667,0.714286,0.761905,0.809524,0.857143,0.904762,0.952381,1.000000], [-0.060836,0.060837,0.171764,0.273907,0.369641,0.460670,0.546899,0.626164,0.694763,0.748310,0.782529,0.793867,0.779896,0.739669,0.674521,0.588366,0.487362,0.378508,0.267794,0.158888,0.053150,-0.053150])\n",
    "plt.ylabel('Geschwindigkeit u zu(reynoldzahl=100.000000')\n",
    "plt.xlabel('y-Wert')\n",
    "plt.xlim((0,1))\n",
    "plt.show()"
   ]
  }
 ],
 "metadata": {
  "kernelspec": {
   "display_name": "Python 3",
   "language": "python",
   "name": "python3"
  },
  "language_info": {
   "codemirror_mode": {
    "name": "ipython",
    "version": 3
   },
   "file_extension": ".py",
   "mimetype": "text/x-python",
   "name": "python",
   "nbconvert_exporter": "python",
   "pygments_lexer": "ipython3",
   "version": "3.7.3"
  }
 },
 "nbformat": 4,
 "nbformat_minor": 2
}{
 "cells": [
  {
   "cell_type": "code",
   "execution_count": null,
   "metadata": {},
   "outputs": [],
   "source": [
    "import matplotlib.pyplot as plt\n",
    "plt.plot([0.000000,0.047619,0.095238,0.142857,0.190476,0.238095,0.285714,0.333333,0.380952,0.428571,0.476190,0.523810,0.571429,0.619048,0.666667,0.714286,0.761905,0.809524,0.857143,0.904762,0.952381,1.000000], [-0.060836,0.060837,0.171764,0.273907,0.369641,0.460670,0.546899,0.626164,0.694763,0.748310,0.782529,0.793867,0.779896,0.739669,0.674521,0.588366,0.487362,0.378508,0.267794,0.158888,0.053150,-0.053150])\n",
    "plt.ylabel('Geschwindigkeit u zu(reynoldzahl=100.000000')\n",
    "plt.xlabel('y-Wert')\n",
    "plt.xlim((0,1))\n",
    "plt.show()"
   ]
  }
 ],
 "metadata": {
  "kernelspec": {
   "display_name": "Python 3",
   "language": "python",
   "name": "python3"
  },
  "language_info": {
   "codemirror_mode": {
    "name": "ipython",
    "version": 3
   },
   "file_extension": ".py",
   "mimetype": "text/x-python",
   "name": "python",
   "nbconvert_exporter": "python",
   "pygments_lexer": "ipython3",
   "version": "3.7.3"
  }
 },
 "nbformat": 4,
 "nbformat_minor": 2
}{
 "cells": [
  {
   "cell_type": "code",
   "execution_count": null,
   "metadata": {},
   "outputs": [],
   "source": [
    "import matplotlib.pyplot as plt\n",
    "plt.plot([0.000000,0.047619,0.095238,0.142857,0.190476,0.238095,0.285714,0.333333,0.380952,0.428571,0.476190,0.523810,0.571429,0.619048,0.666667,0.714286,0.761905,0.809524,0.857143,0.904762,0.952381,1.000000], [-0.060836,0.060837,0.171764,0.273907,0.369641,0.460670,0.546899,0.626164,0.694763,0.748310,0.782529,0.793867,0.779896,0.739669,0.674521,0.588366,0.487362,0.378508,0.267794,0.158888,0.053150,-0.053150])\n",
    "plt.ylabel('Geschwindigkeit u zu(reynoldzahl=100.000000')\n",
    "plt.xlabel('y-Wert')\n",
    "plt.xlim((0,1))\n",
    "plt.show()"
   ]
  }
 ],
 "metadata": {
  "kernelspec": {
   "display_name": "Python 3",
   "language": "python",
   "name": "python3"
  },
  "language_info": {
   "codemirror_mode": {
    "name": "ipython",
    "version": 3
   },
   "file_extension": ".py",
   "mimetype": "text/x-python",
   "name": "python",
   "nbconvert_exporter": "python",
   "pygments_lexer": "ipython3",
   "version": "3.7.3"
  }
 },
 "nbformat": 4,
 "nbformat_minor": 2
}{
 "cells": [
  {
   "cell_type": "code",
   "execution_count": null,
   "metadata": {},
   "outputs": [],
   "source": [
    "import matplotlib.pyplot as plt\n",
    "plt.plot([0.000000,0.047619,0.095238,0.142857,0.190476,0.238095,0.285714,0.333333,0.380952,0.428571,0.476190,0.523810,0.571429,0.619048,0.666667,0.714286,0.761905,0.809524,0.857143,0.904762,0.952381,1.000000], [-0.060836,0.060837,0.171764,0.273907,0.369641,0.460670,0.546899,0.626164,0.694763,0.748310,0.782529,0.793867,0.779896,0.739669,0.674521,0.588366,0.487362,0.378508,0.267794,0.158888,0.053150,-0.053150])\n",
    "plt.ylabel('Geschwindigkeit u zu(reynoldzahl=100.000000')\n",
    "plt.xlabel('y-Wert')\n",
    "plt.xlim((0,1))\n",
    "plt.show()"
   ]
  }
 ],
 "metadata": {
  "kernelspec": {
   "display_name": "Python 3",
   "language": "python",
   "name": "python3"
  },
  "language_info": {
   "codemirror_mode": {
    "name": "ipython",
    "version": 3
   },
   "file_extension": ".py",
   "mimetype": "text/x-python",
   "name": "python",
   "nbconvert_exporter": "python",
   "pygments_lexer": "ipython3",
   "version": "3.7.3"
  }
 },
 "nbformat": 4,
 "nbformat_minor": 2
}{
 "cells": [
  {
   "cell_type": "code",
   "execution_count": null,
   "metadata": {},
   "outputs": [],
   "source": [
    "import matplotlib.pyplot as plt\n",
    "plt.plot([0.000000,0.047619,0.095238,0.142857,0.190476,0.238095,0.285714,0.333333,0.380952,0.428571,0.476190,0.523810,0.571429,0.619048,0.666667,0.714286,0.761905,0.809524,0.857143,0.904762,0.952381,1.000000], [-0.060836,0.060837,0.171764,0.273907,0.369641,0.460670,0.546899,0.626164,0.694763,0.748310,0.782529,0.793867,0.779896,0.739669,0.674521,0.588366,0.487362,0.378508,0.267794,0.158888,0.053150,-0.053150])\n",
    "plt.ylabel('Geschwindigkeit u zu(reynoldzahl=100.000000')\n",
    "plt.xlabel('y-Wert')\n",
    "plt.xlim((0,1))\n",
    "plt.show()"
   ]
  }
 ],
 "metadata": {
  "kernelspec": {
   "display_name": "Python 3",
   "language": "python",
   "name": "python3"
  },
  "language_info": {
   "codemirror_mode": {
    "name": "ipython",
    "version": 3
   },
   "file_extension": ".py",
   "mimetype": "text/x-python",
   "name": "python",
   "nbconvert_exporter": "python",
   "pygments_lexer": "ipython3",
   "version": "3.7.3"
  }
 },
 "nbformat": 4,
 "nbformat_minor": 2
}{
 "cells": [
  {
   "cell_type": "code",
   "execution_count": null,
   "metadata": {},
   "outputs": [],
   "source": [
    "import matplotlib.pyplot as plt\n",
    "plt.plot([0.000000,0.047619,0.095238,0.142857,0.190476,0.238095,0.285714,0.333333,0.380952,0.428571,0.476190,0.523810,0.571429,0.619048,0.666667,0.714286,0.761905,0.809524,0.857143,0.904762,0.952381,1.000000], [-0.060836,0.060837,0.171764,0.273907,0.369641,0.460670,0.546899,0.626164,0.694763,0.748310,0.782529,0.793867,0.779896,0.739669,0.674521,0.588366,0.487362,0.378508,0.267794,0.158888,0.053150,-0.053150])\n",
    "plt.ylabel('Geschwindigkeit u zu(reynoldzahl=100.000000')\n",
    "plt.xlabel('y-Wert')\n",
    "plt.xlim((0,1))\n",
    "plt.show()"
   ]
  }
 ],
 "metadata": {
  "kernelspec": {
   "display_name": "Python 3",
   "language": "python",
   "name": "python3"
  },
  "language_info": {
   "codemirror_mode": {
    "name": "ipython",
    "version": 3
   },
   "file_extension": ".py",
   "mimetype": "text/x-python",
   "name": "python",
   "nbconvert_exporter": "python",
   "pygments_lexer": "ipython3",
   "version": "3.7.3"
  }
 },
 "nbformat": 4,
 "nbformat_minor": 2
}{
 "cells": [
  {
   "cell_type": "code",
   "execution_count": null,
   "metadata": {},
   "outputs": [],
   "source": [
    "import matplotlib.pyplot as plt\n",
    "plt.plot([0.000000,0.047619,0.095238,0.142857,0.190476,0.238095,0.285714,0.333333,0.380952,0.428571,0.476190,0.523810,0.571429,0.619048,0.666667,0.714286,0.761905,0.809524,0.857143,0.904762,0.952381,1.000000], [-0.060836,0.060837,0.171764,0.273907,0.369641,0.460670,0.546899,0.626164,0.694763,0.748310,0.782529,0.793867,0.779896,0.739669,0.674521,0.588366,0.487362,0.378508,0.267794,0.158888,0.053150,-0.053150])\n",
    "plt.ylabel('Geschwindigkeit u zu(reynoldzahl=100.000000')\n",
    "plt.xlabel('y-Wert')\n",
    "plt.xlim((0,1))\n",
    "plt.show()"
   ]
  }
 ],
 "metadata": {
  "kernelspec": {
   "display_name": "Python 3",
   "language": "python",
   "name": "python3"
  },
  "language_info": {
   "codemirror_mode": {
    "name": "ipython",
    "version": 3
   },
   "file_extension": ".py",
   "mimetype": "text/x-python",
   "name": "python",
   "nbconvert_exporter": "python",
   "pygments_lexer": "ipython3",
   "version": "3.7.3"
  }
 },
 "nbformat": 4,
 "nbformat_minor": 2
}{
 "cells": [
  {
   "cell_type": "code",
   "execution_count": null,
   "metadata": {},
   "outputs": [],
   "source": [
    "import matplotlib.pyplot as plt\n",
    "plt.plot([0.000000,0.047619,0.095238,0.142857,0.190476,0.238095,0.285714,0.333333,0.380952,0.428571,0.476190,0.523810,0.571429,0.619048,0.666667,0.714286,0.761905,0.809524,0.857143,0.904762,0.952381,1.000000], [-0.060836,0.060837,0.171764,0.273907,0.369641,0.460670,0.546899,0.626164,0.694763,0.748310,0.782529,0.793867,0.779896,0.739669,0.674521,0.588366,0.487362,0.378508,0.267794,0.158888,0.053150,-0.053150])\n",
    "plt.ylabel('Geschwindigkeit u zu(reynoldzahl=100.000000')\n",
    "plt.xlabel('y-Wert')\n",
    "plt.xlim((0,1))\n",
    "plt.show()"
   ]
  }
 ],
 "metadata": {
  "kernelspec": {
   "display_name": "Python 3",
   "language": "python",
   "name": "python3"
  },
  "language_info": {
   "codemirror_mode": {
    "name": "ipython",
    "version": 3
   },
   "file_extension": ".py",
   "mimetype": "text/x-python",
   "name": "python",
   "nbconvert_exporter": "python",
   "pygments_lexer": "ipython3",
   "version": "3.7.3"
  }
 },
 "nbformat": 4,
 "nbformat_minor": 2
}{
 "cells": [
  {
   "cell_type": "code",
   "execution_count": null,
   "metadata": {},
   "outputs": [],
   "source": [
    "import matplotlib.pyplot as plt\n",
    "plt.plot([0.000000,0.047619,0.095238,0.142857,0.190476,0.238095,0.285714,0.333333,0.380952,0.428571,0.476190,0.523810,0.571429,0.619048,0.666667,0.714286,0.761905,0.809524,0.857143,0.904762,0.952381,1.000000], [-0.060836,0.060837,0.171764,0.273907,0.369641,0.460670,0.546899,0.626164,0.694763,0.748310,0.782529,0.793867,0.779896,0.739669,0.674521,0.588366,0.487362,0.378508,0.267794,0.158888,0.053150,-0.053150])\n",
    "plt.ylabel('Geschwindigkeit u zu(reynoldzahl=100.000000')\n",
    "plt.xlabel('y-Wert')\n",
    "plt.xlim((0,1))\n",
    "plt.show()"
   ]
  }
 ],
 "metadata": {
  "kernelspec": {
   "display_name": "Python 3",
   "language": "python",
   "name": "python3"
  },
  "language_info": {
   "codemirror_mode": {
    "name": "ipython",
    "version": 3
   },
   "file_extension": ".py",
   "mimetype": "text/x-python",
   "name": "python",
   "nbconvert_exporter": "python",
   "pygments_lexer": "ipython3",
   "version": "3.7.3"
  }
 },
 "nbformat": 4,
 "nbformat_minor": 2
}