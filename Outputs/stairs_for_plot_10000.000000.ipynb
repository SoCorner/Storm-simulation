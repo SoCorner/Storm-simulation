{
 "cells": [
  {
   "cell_type": "code",
   "execution_count": null,
   "metadata": {},
   "outputs": [],
   "source": [
    "import matplotlib.pyplot as plt\n",
    "plt.plot([0.000000,0.047619,0.095238,0.142857,0.190476,0.238095,0.285714,0.333333,0.380952,0.428571,0.476190,0.523810,0.571429,0.619048,0.666667,0.714286,0.761905,0.809524,0.857143,0.904762,0.952381,1.000000], [-0.393957,0.393978,0.506543,0.613585,0.707915,0.785189,0.842226,0.877622,0.892277,0.889076,0.871061,0.838658,0.788233,0.713538,0.608308,0.467172,0.285048,0.038411,-0.080793,-0.127829,-0.111634,0.111666])\n",
    "plt.ylabel('Geschwindigkeit u zu(reynoldzahl=10000.000000')\n",
    "plt.xlabel('y-Wert')\n",
    "plt.xlim((0,1))\n",
    "plt.show()"
   ]
  }
 ],
 "metadata": {
  "kernelspec": {
   "display_name": "Python 3",
   "language": "python",
   "name": "python3"
  },
  "language_info": {
   "codemirror_mode": {
    "name": "ipython",
    "version": 3
   },
   "file_extension": ".py",
   "mimetype": "text/x-python",
   "name": "python",
   "nbconvert_exporter": "python",
   "pygments_lexer": "ipython3",
   "version": "3.7.3"
  }
 },
 "nbformat": 4,
 "nbformat_minor": 2
}{
 "cells": [
  {
   "cell_type": "code",
   "execution_count": null,
   "metadata": {},
   "outputs": [],
   "source": [
    "import matplotlib.pyplot as plt\n",
    "plt.plot([0.000000,0.047619,0.095238,0.142857,0.190476,0.238095,0.285714,0.333333,0.380952,0.428571,0.476190,0.523810,0.571429,0.619048,0.666667,0.714286,0.761905,0.809524,0.857143,0.904762,0.952381,1.000000], [-0.393957,0.393978,0.506543,0.613585,0.707915,0.785189,0.842226,0.877622,0.892277,0.889076,0.871061,0.838658,0.788233,0.713538,0.608308,0.467172,0.285048,0.038411,-0.080793,-0.127829,-0.111634,0.111666])\n",
    "plt.ylabel('Geschwindigkeit u zu(reynoldzahl=10000.000000')\n",
    "plt.xlabel('y-Wert')\n",
    "plt.xlim((0,1))\n",
    "plt.show()"
   ]
  }
 ],
 "metadata": {
  "kernelspec": {
   "display_name": "Python 3",
   "language": "python",
   "name": "python3"
  },
  "language_info": {
   "codemirror_mode": {
    "name": "ipython",
    "version": 3
   },
   "file_extension": ".py",
   "mimetype": "text/x-python",
   "name": "python",
   "nbconvert_exporter": "python",
   "pygments_lexer": "ipython3",
   "version": "3.7.3"
  }
 },
 "nbformat": 4,
 "nbformat_minor": 2
}{
 "cells": [
  {
   "cell_type": "code",
   "execution_count": null,
   "metadata": {},
   "outputs": [],
   "source": [
    "import matplotlib.pyplot as plt\n",
    "plt.plot([0.000000,0.047619,0.095238,0.142857,0.190476,0.238095,0.285714,0.333333,0.380952,0.428571,0.476190,0.523810,0.571429,0.619048,0.666667,0.714286,0.761905,0.809524,0.857143,0.904762,0.952381,1.000000], [-0.393957,0.393978,0.506543,0.613585,0.707915,0.785189,0.842226,0.877622,0.892277,0.889076,0.871061,0.838658,0.788233,0.713538,0.608308,0.467172,0.285048,0.038411,-0.080793,-0.127829,-0.111634,0.111666])\n",
    "plt.ylabel('Geschwindigkeit u zu(reynoldzahl=10000.000000')\n",
    "plt.xlabel('y-Wert')\n",
    "plt.xlim((0,1))\n",
    "plt.show()"
   ]
  }
 ],
 "metadata": {
  "kernelspec": {
   "display_name": "Python 3",
   "language": "python",
   "name": "python3"
  },
  "language_info": {
   "codemirror_mode": {
    "name": "ipython",
    "version": 3
   },
   "file_extension": ".py",
   "mimetype": "text/x-python",
   "name": "python",
   "nbconvert_exporter": "python",
   "pygments_lexer": "ipython3",
   "version": "3.7.3"
  }
 },
 "nbformat": 4,
 "nbformat_minor": 2
}{
 "cells": [
  {
   "cell_type": "code",
   "execution_count": null,
   "metadata": {},
   "outputs": [],
   "source": [
    "import matplotlib.pyplot as plt\n",
    "plt.plot([0.000000,0.047619,0.095238,0.142857,0.190476,0.238095,0.285714,0.333333,0.380952,0.428571,0.476190,0.523810,0.571429,0.619048,0.666667,0.714286,0.761905,0.809524,0.857143,0.904762,0.952381,1.000000], [-0.393957,0.393978,0.506543,0.613585,0.707915,0.785189,0.842226,0.877622,0.892277,0.889076,0.871061,0.838658,0.788233,0.713538,0.608308,0.467172,0.285048,0.038411,-0.080793,-0.127829,-0.111634,0.111666])\n",
    "plt.ylabel('Geschwindigkeit u zu(reynoldzahl=10000.000000')\n",
    "plt.xlabel('y-Wert')\n",
    "plt.xlim((0,1))\n",
    "plt.show()"
   ]
  }
 ],
 "metadata": {
  "kernelspec": {
   "display_name": "Python 3",
   "language": "python",
   "name": "python3"
  },
  "language_info": {
   "codemirror_mode": {
    "name": "ipython",
    "version": 3
   },
   "file_extension": ".py",
   "mimetype": "text/x-python",
   "name": "python",
   "nbconvert_exporter": "python",
   "pygments_lexer": "ipython3",
   "version": "3.7.3"
  }
 },
 "nbformat": 4,
 "nbformat_minor": 2
}{
 "cells": [
  {
   "cell_type": "code",
   "execution_count": null,
   "metadata": {},
   "outputs": [],
   "source": [
    "import matplotlib.pyplot as plt\n",
    "plt.plot([0.000000,0.047619,0.095238,0.142857,0.190476,0.238095,0.285714,0.333333,0.380952,0.428571,0.476190,0.523810,0.571429,0.619048,0.666667,0.714286,0.761905,0.809524,0.857143,0.904762,0.952381,1.000000], [-0.393957,0.393978,0.506543,0.613585,0.707915,0.785189,0.842226,0.877622,0.892277,0.889076,0.871061,0.838658,0.788233,0.713538,0.608308,0.467172,0.285048,0.038411,-0.080793,-0.127829,-0.111634,0.111666])\n",
    "plt.ylabel('Geschwindigkeit u zu(reynoldzahl=10000.000000')\n",
    "plt.xlabel('y-Wert')\n",
    "plt.xlim((0,1))\n",
    "plt.show()"
   ]
  }
 ],
 "metadata": {
  "kernelspec": {
   "display_name": "Python 3",
   "language": "python",
   "name": "python3"
  },
  "language_info": {
   "codemirror_mode": {
    "name": "ipython",
    "version": 3
   },
   "file_extension": ".py",
   "mimetype": "text/x-python",
   "name": "python",
   "nbconvert_exporter": "python",
   "pygments_lexer": "ipython3",
   "version": "3.7.3"
  }
 },
 "nbformat": 4,
 "nbformat_minor": 2
}